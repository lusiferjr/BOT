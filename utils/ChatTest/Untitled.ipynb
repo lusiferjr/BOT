{
 "cells": [
  {
   "cell_type": "code",
   "execution_count": 9,
   "metadata": {},
   "outputs": [
    {
     "name": "stderr",
     "output_type": "stream",
     "text": [
      "Epochs: 100%|██████████| 300/300 [00:01<00:00, 239.24it/s, loss=0.105, acc=1.000]\n"
     ]
    }
   ],
   "source": [
    "from rasa_nlu.training_data import load_data\n",
    "from rasa_nlu.model import Trainer\n",
    "from rasa_nlu import config\n",
    "from rasa_nlu.model import Interpreter\n",
    "\n",
    "\n",
    "def train_bot(data_json, config_file, model_dir):\n",
    "    training_data = load_data(data_json)\n",
    "    trainer = Trainer(config.load(config_file))\n",
    "    trainer.train(training_data)\n",
    "    model_directory = trainer.persist(model_dir, fixed_model_name='ChatTest')\n",
    "\n",
    "\n",
    "def predict_intent(text):\n",
    "    interpreter = Interpreter.load('./models/nlu/default/ChatTest')\n",
    "    print(interpreter.parse(text))\n",
    "\n",
    "\n",
    "train_bot('./Data/data.json', 'config.json', './models/nlu')"
   ]
  },
  {
   "cell_type": "code",
   "execution_count": 10,
   "metadata": {},
   "outputs": [
    {
     "name": "stdout",
     "output_type": "stream",
     "text": [
      "INFO:tensorflow:Restoring parameters from ./models/nlu/default/ChatTest/component_5_EmbeddingIntentClassifier.ckpt\n",
      "{'intent': {'name': 'explain_Linear_Regression', 'confidence': 0.937775194644928}, 'entities': [], 'intent_ranking': [{'name': 'explain_Linear_Regression', 'confidence': 0.937775194644928}, {'name': 'solve_Linear_Regression', 'confidence': 0.0026127249002456665}, {'name': 'solve_Dijkstra', 'confidence': 0.0}, {'name': 'explain_Dijkstra', 'confidence': 0.0}, {'name': 'greeting', 'confidence': 0.0}], 'text': 'Explain Linear Regression'}\n"
     ]
    }
   ],
   "source": [
    "text=\"Explain Linear Regression\"\n",
    "predict_intent(text)"
   ]
  },
  {
   "cell_type": "code",
   "execution_count": null,
   "metadata": {},
   "outputs": [],
   "source": []
  }
 ],
 "metadata": {
  "kernelspec": {
   "display_name": "Python 3",
   "language": "python",
   "name": "python3"
  },
  "language_info": {
   "codemirror_mode": {
    "name": "ipython",
    "version": 3
   },
   "file_extension": ".py",
   "mimetype": "text/x-python",
   "name": "python",
   "nbconvert_exporter": "python",
   "pygments_lexer": "ipython3",
   "version": "3.7.3"
  }
 },
 "nbformat": 4,
 "nbformat_minor": 2
}
